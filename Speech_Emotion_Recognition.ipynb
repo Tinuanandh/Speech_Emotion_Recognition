{
 "cells": [
  {
   "cell_type": "code",
   "execution_count": 18,
   "id": "2bd291d0-f7a8-40b6-be9f-037a507e2ee8",
   "metadata": {},
   "outputs": [],
   "source": [
    "import librosa\n",
    "import soundfile\n",
    "import os, glob, pickle\n",
    "import numpy as np\n",
    "from sklearn.model_selection import train_test_split\n",
    "from sklearn.neural_network import MLPClassifier\n",
    "from sklearn.metrics import accuracy_score"
   ]
  },
  {
   "cell_type": "code",
   "execution_count": 19,
   "id": "86ff7243-8014-4e27-aa55-89ceaee3965b",
   "metadata": {},
   "outputs": [],
   "source": [
    "#DataFlair - Extract features (mfcc, chroma, mel) from a sound file\n",
    "def extract_feature(file_name, mfcc, chroma, mel):\n",
    "    with soundfile.SoundFile(file_name) as sound_file:\n",
    "        X = sound_file.read(dtype=\"float32\")\n",
    "        sample_rate=sound_file.samplerate\n",
    "        if chroma:\n",
    "            stft=np.abs(librosa.stft(X))\n",
    "        result=np.array([])\n",
    "        if mfcc:\n",
    "            mfccs=np.mean(librosa.feature.mfcc(y=X, sr=sample_rate, n_mfcc=40).T, axis=0)\n",
    "            result=np.hstack((result, mfccs))\n",
    "        if chroma:\n",
    "            chroma=np.mean(librosa.feature.chroma_stft(S=stft, sr=sample_rate).T,axis=0)\n",
    "            result=np.hstack((result, chroma))\n",
    "        if mel:\n",
    "            mel=np.mean(librosa.feature.melspectrogram(y=X, sr=sample_rate).T,axis=0)\n",
    "            result=np.hstack((result, mel))\n",
    "    return result"
   ]
  },
  {
   "cell_type": "code",
   "execution_count": 20,
   "id": "3b3e8470-4751-49fb-9b57-47d5ee9a742d",
   "metadata": {},
   "outputs": [],
   "source": [
    "#DataFlair - Emotions in the RAVDESS dataset\n",
    "emotions={\n",
    "  '01':'neutral',\n",
    "  '02':'calm',\n",
    "  '03':'happy',\n",
    "  '04':'sad',\n",
    "  '05':'angry',\n",
    "  '06':'fearful',\n",
    "  '07':'disgust',\n",
    "  '08':'surprised'\n",
    "}\n",
    "#DataFlair - Emotions to observe\n",
    "observed_emotions=['calm', 'happy', 'fearful', 'disgust']"
   ]
  },
  {
   "cell_type": "code",
   "execution_count": 21,
   "id": "cf6eac22-bfac-4d64-aab7-69078a6d1e1e",
   "metadata": {},
   "outputs": [],
   "source": [
    "#DataFlair - Load the data and extract features for each sound file\n",
    "def load_data(test_size=0.2):\n",
    "    x,y=[],[]\n",
    "    for file in glob.glob(\"C:\\\\Users\\\\Tinuanandh\\\\Downloads\\\\speech-emotion-recognition-ravdess-data\\\\Actor_*\\\\*.wav\"):\n",
    "        file_name=os.path.basename(file)\n",
    "        emotion=emotions[file_name.split(\"-\")[2]]\n",
    "        if emotion not in observed_emotions:\n",
    "            continue\n",
    "        feature=extract_feature(file, mfcc=True, chroma=True, mel=True)\n",
    "        x.append(feature)\n",
    "        y.append(emotion)\n",
    "    return train_test_split(np.array(x), y, test_size=test_size, train_size= 0.75, random_state=9)"
   ]
  },
  {
   "cell_type": "code",
   "execution_count": 22,
   "id": "bcd9383f-4789-4233-b65b-27c993f4363a",
   "metadata": {},
   "outputs": [],
   "source": [
    "#DataFlair - Split the dataset\n",
    "x_train,x_test,y_train,y_test=load_data(test_size=0.25)"
   ]
  },
  {
   "cell_type": "code",
   "execution_count": 23,
   "id": "8df7f2ed-fb24-4137-823e-1fc5de2d4d1c",
   "metadata": {},
   "outputs": [
    {
     "name": "stdout",
     "output_type": "stream",
     "text": [
      "(576, 192)\n"
     ]
    }
   ],
   "source": [
    "#DataFlair - Get the shape of the training and testing datasets\n",
    "print((x_train.shape[0], x_test.shape[0]))"
   ]
  },
  {
   "cell_type": "code",
   "execution_count": 24,
   "id": "25ffb4f6-6f8e-4354-bbea-ea111914cc87",
   "metadata": {},
   "outputs": [
    {
     "name": "stdout",
     "output_type": "stream",
     "text": [
      "Features extracted: 180\n"
     ]
    }
   ],
   "source": [
    "#DataFlair - Get the number of features extracted\n",
    "print(f'Features extracted: {x_train.shape[1]}')"
   ]
  },
  {
   "cell_type": "code",
   "execution_count": 25,
   "id": "3bdefce7-1f86-4a08-9a6d-b4576460e754",
   "metadata": {},
   "outputs": [],
   "source": [
    "#DataFlair - Initialize the Multi Layer Perceptron Classifier\n",
    "model=MLPClassifier(alpha=0.01, batch_size=256, epsilon=1e-08, hidden_layer_sizes=(300,), learning_rate='adaptive', max_iter=500)"
   ]
  },
  {
   "cell_type": "code",
   "execution_count": 26,
   "id": "62532730-967a-4a07-957c-3a6ad592deb8",
   "metadata": {},
   "outputs": [
    {
     "data": {
      "text/plain": [
       "MLPClassifier(alpha=0.01, batch_size=256, hidden_layer_sizes=(300,),\n",
       "              learning_rate='adaptive', max_iter=500)"
      ]
     },
     "execution_count": 26,
     "metadata": {},
     "output_type": "execute_result"
    }
   ],
   "source": [
    "#DataFlair - Train the model\n",
    "model.fit(x_train,y_train)"
   ]
  },
  {
   "cell_type": "code",
   "execution_count": 27,
   "id": "b01ad596-cb28-4040-9c36-28918450e93d",
   "metadata": {},
   "outputs": [],
   "source": [
    "#DataFlair - Predict for the test set\n",
    "y_pred=model.predict(x_test)"
   ]
  },
  {
   "cell_type": "code",
   "execution_count": 28,
   "id": "5e347ecf-dffa-4d48-9bcd-4381d0775949",
   "metadata": {},
   "outputs": [
    {
     "name": "stdout",
     "output_type": "stream",
     "text": [
      "Accuracy: 67.19%\n"
     ]
    }
   ],
   "source": [
    "#DataFlair - Calculate the accuracy of our model\n",
    "accuracy=accuracy_score(y_true=y_test, y_pred=y_pred)\n",
    "#DataFlair - Print the accuracy\n",
    "print(\"Accuracy: {:.2f}%\".format(accuracy*100))"
   ]
  },
  {
   "cell_type": "code",
   "execution_count": 29,
   "id": "310e26d0-41fe-489f-85ac-53689c1f90b1",
   "metadata": {},
   "outputs": [],
   "source": [
    "from sklearn.metrics import accuracy_score, f1_score"
   ]
  },
  {
   "cell_type": "code",
   "execution_count": 30,
   "id": "cdad5461-1304-4c6f-9a78-2ba2f21d77e4",
   "metadata": {},
   "outputs": [
    {
     "data": {
      "text/plain": [
       "array([0.7768595 , 0.57831325, 0.63157895, 0.6504065 ])"
      ]
     },
     "execution_count": 30,
     "metadata": {},
     "output_type": "execute_result"
    }
   ],
   "source": [
    "f1_score(y_test, y_pred,average=None)"
   ]
  },
  {
   "cell_type": "code",
   "execution_count": 31,
   "id": "bcdc3703-3307-49c2-8c04-9d89dd1a6691",
   "metadata": {},
   "outputs": [
    {
     "data": {
      "text/html": [
       "<div>\n",
       "<style scoped>\n",
       "    .dataframe tbody tr th:only-of-type {\n",
       "        vertical-align: middle;\n",
       "    }\n",
       "\n",
       "    .dataframe tbody tr th {\n",
       "        vertical-align: top;\n",
       "    }\n",
       "\n",
       "    .dataframe thead th {\n",
       "        text-align: right;\n",
       "    }\n",
       "</style>\n",
       "<table border=\"1\" class=\"dataframe\">\n",
       "  <thead>\n",
       "    <tr style=\"text-align: right;\">\n",
       "      <th></th>\n",
       "      <th>Actual</th>\n",
       "      <th>Predicted</th>\n",
       "    </tr>\n",
       "  </thead>\n",
       "  <tbody>\n",
       "    <tr>\n",
       "      <th>0</th>\n",
       "      <td>happy</td>\n",
       "      <td>happy</td>\n",
       "    </tr>\n",
       "    <tr>\n",
       "      <th>1</th>\n",
       "      <td>calm</td>\n",
       "      <td>calm</td>\n",
       "    </tr>\n",
       "    <tr>\n",
       "      <th>2</th>\n",
       "      <td>happy</td>\n",
       "      <td>happy</td>\n",
       "    </tr>\n",
       "    <tr>\n",
       "      <th>3</th>\n",
       "      <td>happy</td>\n",
       "      <td>happy</td>\n",
       "    </tr>\n",
       "    <tr>\n",
       "      <th>4</th>\n",
       "      <td>disgust</td>\n",
       "      <td>calm</td>\n",
       "    </tr>\n",
       "    <tr>\n",
       "      <th>5</th>\n",
       "      <td>calm</td>\n",
       "      <td>calm</td>\n",
       "    </tr>\n",
       "    <tr>\n",
       "      <th>6</th>\n",
       "      <td>happy</td>\n",
       "      <td>calm</td>\n",
       "    </tr>\n",
       "    <tr>\n",
       "      <th>7</th>\n",
       "      <td>happy</td>\n",
       "      <td>happy</td>\n",
       "    </tr>\n",
       "    <tr>\n",
       "      <th>8</th>\n",
       "      <td>disgust</td>\n",
       "      <td>calm</td>\n",
       "    </tr>\n",
       "    <tr>\n",
       "      <th>9</th>\n",
       "      <td>happy</td>\n",
       "      <td>happy</td>\n",
       "    </tr>\n",
       "    <tr>\n",
       "      <th>10</th>\n",
       "      <td>happy</td>\n",
       "      <td>happy</td>\n",
       "    </tr>\n",
       "    <tr>\n",
       "      <th>11</th>\n",
       "      <td>disgust</td>\n",
       "      <td>calm</td>\n",
       "    </tr>\n",
       "    <tr>\n",
       "      <th>12</th>\n",
       "      <td>happy</td>\n",
       "      <td>fearful</td>\n",
       "    </tr>\n",
       "    <tr>\n",
       "      <th>13</th>\n",
       "      <td>happy</td>\n",
       "      <td>happy</td>\n",
       "    </tr>\n",
       "    <tr>\n",
       "      <th>14</th>\n",
       "      <td>disgust</td>\n",
       "      <td>disgust</td>\n",
       "    </tr>\n",
       "    <tr>\n",
       "      <th>15</th>\n",
       "      <td>fearful</td>\n",
       "      <td>happy</td>\n",
       "    </tr>\n",
       "    <tr>\n",
       "      <th>16</th>\n",
       "      <td>calm</td>\n",
       "      <td>calm</td>\n",
       "    </tr>\n",
       "    <tr>\n",
       "      <th>17</th>\n",
       "      <td>happy</td>\n",
       "      <td>disgust</td>\n",
       "    </tr>\n",
       "    <tr>\n",
       "      <th>18</th>\n",
       "      <td>disgust</td>\n",
       "      <td>disgust</td>\n",
       "    </tr>\n",
       "    <tr>\n",
       "      <th>19</th>\n",
       "      <td>disgust</td>\n",
       "      <td>calm</td>\n",
       "    </tr>\n",
       "  </tbody>\n",
       "</table>\n",
       "</div>"
      ],
      "text/plain": [
       "     Actual Predicted\n",
       "0     happy     happy\n",
       "1      calm      calm\n",
       "2     happy     happy\n",
       "3     happy     happy\n",
       "4   disgust      calm\n",
       "5      calm      calm\n",
       "6     happy      calm\n",
       "7     happy     happy\n",
       "8   disgust      calm\n",
       "9     happy     happy\n",
       "10    happy     happy\n",
       "11  disgust      calm\n",
       "12    happy   fearful\n",
       "13    happy     happy\n",
       "14  disgust   disgust\n",
       "15  fearful     happy\n",
       "16     calm      calm\n",
       "17    happy   disgust\n",
       "18  disgust   disgust\n",
       "19  disgust      calm"
      ]
     },
     "execution_count": 31,
     "metadata": {},
     "output_type": "execute_result"
    }
   ],
   "source": [
    "import pandas as pd\n",
    "df=pd.DataFrame({'Actual': y_test, 'Predicted':y_pred})\n",
    "df.head(20)"
   ]
  },
  {
   "cell_type": "code",
   "execution_count": 32,
   "id": "0734a927-cf92-4766-a78d-0864c2fa38b7",
   "metadata": {},
   "outputs": [],
   "source": [
    "import pickle\n",
    "# Writing different model files to file\n",
    "with open( 'modelForPrediction1.sav', 'wb') as f:\n",
    "    pickle.dump(model,f)"
   ]
  },
  {
   "cell_type": "code",
   "execution_count": 33,
   "id": "77ad8528-82e8-4a79-b34c-0b1237c1abc5",
   "metadata": {},
   "outputs": [
    {
     "data": {
      "text/plain": [
       "array(['happy'], dtype='<U7')"
      ]
     },
     "execution_count": 33,
     "metadata": {},
     "output_type": "execute_result"
    }
   ],
   "source": [
    "filename = 'modelForPrediction1.sav'\n",
    "loaded_model = pickle.load(open(filename, 'rb')) # loading the model file from the storage\n",
    "\n",
    "feature=extract_feature(\"C:\\\\Users\\\\Tinuanandh\\\\Downloads\\\\speech-emotion-recognition-ravdess-data\\\\Actor_01\\\\03-01-01-01-01-01-01.wav\", mfcc=True, chroma=True, mel=True)\n",
    "\n",
    "feature=feature.reshape(1,-1)\n",
    "\n",
    "prediction=loaded_model.predict(feature)\n",
    "prediction"
   ]
  },
  {
   "cell_type": "code",
   "execution_count": 34,
   "id": "2884a268-f86d-4bd6-bda2-76aae91bb26d",
   "metadata": {},
   "outputs": [
    {
     "data": {
      "text/plain": [
       "array([[-6.93497009e+02,  5.00643921e+01,  5.71450830e-01,\n",
       "         1.43299656e+01,  3.33636999e+00, -2.54071975e+00,\n",
       "        -4.05790901e+00, -1.07119999e+01, -7.29414034e+00,\n",
       "         1.74018884e+00, -4.19064283e+00,  1.95466173e+00,\n",
       "        -5.24789381e+00,  2.78143024e+00, -3.16756773e+00,\n",
       "        -3.40008307e+00, -2.37803221e+00, -5.68717659e-01,\n",
       "        -6.47753382e+00, -1.24320555e+00, -2.80542493e+00,\n",
       "        -5.43635798e+00, -4.46875364e-01, -3.63516617e+00,\n",
       "        -2.98372626e+00, -5.63902557e-01, -1.65101957e+00,\n",
       "        -5.55944741e-01, -3.41018438e+00, -2.24465466e+00,\n",
       "        -3.13058877e+00, -2.70089960e+00, -1.88821340e+00,\n",
       "        -5.54154277e-01, -3.96459913e+00, -2.13485193e+00,\n",
       "        -3.94577122e+00, -1.62457860e+00, -2.03990722e+00,\n",
       "        -3.62910867e+00,  6.33734703e-01,  6.48760676e-01,\n",
       "         6.21744275e-01,  6.34553194e-01,  6.60345614e-01,\n",
       "         6.60463989e-01,  7.00949013e-01,  7.31556356e-01,\n",
       "         7.46921539e-01,  7.23420441e-01,  7.16119647e-01,\n",
       "         6.30602837e-01,  6.52830636e-07,  2.22643266e-05,\n",
       "         8.42613052e-04,  1.37719270e-02,  2.83742324e-02,\n",
       "         3.12111359e-02,  8.02663807e-03,  3.56961833e-03,\n",
       "         2.32551787e-02,  2.45211683e-02,  1.87926665e-02,\n",
       "         2.44478174e-02,  1.16031338e-02,  8.60342197e-03,\n",
       "         6.71913056e-03,  9.94843338e-03,  1.89656094e-02,\n",
       "         5.04483357e-02,  4.14051339e-02,  9.96424630e-03,\n",
       "         9.64601431e-03,  1.54170115e-02,  4.05186079e-02,\n",
       "         2.10739672e-02,  2.12946697e-03,  2.76945531e-03,\n",
       "         5.57055743e-03,  1.91831719e-02,  1.36224311e-02,\n",
       "         1.21960300e-03,  6.94197835e-04,  8.96891870e-04,\n",
       "         8.47186951e-04,  3.62369727e-04,  2.21950642e-04,\n",
       "         1.40306875e-04,  2.73740763e-04,  3.75907082e-04,\n",
       "         8.28741526e-04,  8.59786058e-04,  6.12733071e-04,\n",
       "         3.95248993e-04,  2.20409798e-04,  3.04378307e-04,\n",
       "         1.89061835e-03,  1.24956470e-03,  1.03854900e-03,\n",
       "         2.60822126e-03,  3.86649882e-03,  4.33528004e-03,\n",
       "         9.54610994e-04,  4.93530591e-04,  4.47093364e-04,\n",
       "         8.03626666e-04,  7.09871238e-04,  3.92192771e-04,\n",
       "         6.18621008e-04,  9.43593972e-04,  7.60865514e-04,\n",
       "         7.23498932e-04,  1.00387214e-03,  9.19646234e-04,\n",
       "         8.18870671e-04,  5.08129189e-04,  4.11667366e-04,\n",
       "         4.03237646e-04,  1.48571402e-04,  6.84264640e-04,\n",
       "         1.38615607e-03,  2.92808865e-04,  5.09449237e-05,\n",
       "         7.45297148e-05,  1.39878655e-04,  8.93816250e-05,\n",
       "         1.35135124e-04,  1.09651715e-04,  2.46569631e-04,\n",
       "         7.43343204e-04,  4.77164402e-04,  6.96408853e-04,\n",
       "         4.74705710e-04,  2.55434716e-04,  1.59143689e-04,\n",
       "         8.08707482e-05,  9.79213364e-05,  8.84003894e-05,\n",
       "         9.75710209e-05,  1.17046940e-04,  1.84339995e-04,\n",
       "         1.69435385e-04,  2.55545980e-04,  2.40519148e-04,\n",
       "         4.28831205e-04,  2.98486266e-04,  4.27471416e-04,\n",
       "         1.06324667e-04,  5.85673333e-05,  2.31044742e-05,\n",
       "         8.89405237e-06,  1.98013931e-05,  1.09333178e-05,\n",
       "         3.66455424e-05,  3.68459878e-05,  5.25096366e-05,\n",
       "         3.77127617e-05,  8.86667185e-05,  7.79374823e-05,\n",
       "         4.24979553e-05,  6.51855808e-05,  3.53608302e-05,\n",
       "         2.41367925e-05,  2.45215579e-05,  2.89214531e-05,\n",
       "         3.95157222e-05,  2.72971338e-05,  1.96686051e-05,\n",
       "         1.51977429e-05,  1.06007192e-05,  7.99631744e-06,\n",
       "         6.07571883e-06,  4.48540641e-06,  4.12061945e-06,\n",
       "         3.71885676e-06,  3.93320988e-06,  3.48488379e-06,\n",
       "         4.07551670e-06,  1.81608038e-06,  7.83327664e-07]])"
      ]
     },
     "execution_count": 34,
     "metadata": {},
     "output_type": "execute_result"
    }
   ],
   "source": [
    "feature"
   ]
  },
  {
   "cell_type": "code",
   "execution_count": null,
   "id": "1e6d5db8-ddc0-45d2-8b33-72d960e8f965",
   "metadata": {},
   "outputs": [],
   "source": []
  }
 ],
 "metadata": {
  "kernelspec": {
   "display_name": "Python 3 (ipykernel)",
   "language": "python",
   "name": "python3"
  },
  "language_info": {
   "codemirror_mode": {
    "name": "ipython",
    "version": 3
   },
   "file_extension": ".py",
   "mimetype": "text/x-python",
   "name": "python",
   "nbconvert_exporter": "python",
   "pygments_lexer": "ipython3",
   "version": "3.9.13"
  }
 },
 "nbformat": 4,
 "nbformat_minor": 5
}
